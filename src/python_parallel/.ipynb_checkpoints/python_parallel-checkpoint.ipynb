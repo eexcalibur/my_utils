{
 "cells": [
  {
   "cell_type": "code",
   "execution_count": 2,
   "metadata": {},
   "outputs": [],
   "source": [
    "import numpy as np\n",
    "import pandas as pd\n",
    "import multiprocessing as mp"
   ]
  },
  {
   "cell_type": "code",
   "execution_count": 3,
   "metadata": {},
   "outputs": [],
   "source": [
    "def fun(x):\n",
    "    return x**2"
   ]
  },
  {
   "cell_type": "code",
   "execution_count": null,
   "metadata": {},
   "outputs": [],
   "source": [
    "def parallel_partition_2d(data,dx,dy,px,py, debug=False):\n",
    "    # dx: domain x size\n",
    "    # dy: domain y size\n",
    "    # px: process number x\n",
    "    # py: process number y\n",
    "    if debug:\n",
    "        print(\"domain size x and y: \", dx, dy)\n",
    "        print(\"process number x and y: \", px, py)\n",
    "    \n",
    "    # lx: block size x\n",
    "    # ly: block size y\n",
    "    lx = dx // px\n",
    "    ly = dy // py\n",
    "    if debug:\n",
    "        print(\"block size x and y: \", lx, ly)\n",
    "    \n",
    "    # gx: x index\n",
    "    # gy: y index\n",
    "    gx = np.arange(0,dx,1)\n",
    "    gy = np.arange(0,dy,1)\n",
    "\n",
    "    # sx: start corner x\n",
    "    # sy: start corner y\n",
    "    sx=gx[0:px*lx:lx]\n",
    "    sy=gy[0:py*ly:ly]\n",
    "    if debug:\n",
    "        print(\"start corner x and y: \", sx, sy)\n",
    "    \n",
    "    # data_1d: partitional data into block list\n",
    "    data_1d = []\n",
    "    \n",
    "    for i in sx:\n",
    "        for j in sy:\n",
    "            if i == sx[-1] and j != sy[-1]:\n",
    "                data_1d.append(data[i:,j:j+ly])\n",
    "            elif i != sx[-1] and j == sy[-1]:\n",
    "                data_1d.append(data[i:i+lx,j:])\n",
    "            elif i == sx[-1] and j == sy[-1]:\n",
    "                data_1d.append(data[i:,j:])\n",
    "            else:\n",
    "                data_1d.append(data[i:i+lx,j:j+ly])\n",
    "            \n",
    "    return data_1d"
   ]
  },
  {
   "cell_type": "code",
   "execution_count": 37,
   "metadata": {},
   "outputs": [],
   "source": [
    "class python_parallel:\n",
    "    def __init__(self,dx,dy,px,py):\n",
    "        self.dx = dx\n",
    "        self.dy = dy\n",
    "        self.px = px\n",
    "        self.py = py\n",
    "        self.data = []\n",
    "\n",
    "    def parallel_partition_2d(self, data, debug=False):\n",
    "        # dx: domain x size\n",
    "        # dy: domain y size\n",
    "        # px: process number x\n",
    "        # py: process number y\n",
    "        if debug:\n",
    "            print(\"domain size x and y: \", self.dx, self.dy)\n",
    "            print(\"process number x and y: \", self.px, self.py)\n",
    "\n",
    "        # lx: block size x\n",
    "        # ly: block size y\n",
    "        lx = self.dx // self.px\n",
    "        ly = self.dy // self.py\n",
    "        if debug:\n",
    "            print(\"block size x and y: \", lx, ly)\n",
    "\n",
    "        # gx: x index\n",
    "        # gy: y index\n",
    "        gx = np.arange(0,self.dx,1)\n",
    "        gy = np.arange(0,self.dy,1)\n",
    "\n",
    "        # sx: start corner x\n",
    "        # sy: start corner y\n",
    "        sx=gx[0:self.px*lx:lx]\n",
    "        sy=gy[0:self.py*ly:ly]\n",
    "        if debug:\n",
    "            print(\"start corner x and y: \", sx, sy)\n",
    "\n",
    "        # data_1d: partitional data into block list\n",
    "        data_1d = []\n",
    "\n",
    "        for i in sx:\n",
    "            for j in sy:\n",
    "                if i == sx[-1] and j != sy[-1]:\n",
    "                    self.data.append(data[i:,j:j+ly])\n",
    "                elif i != sx[-1] and j == sy[-1]:\n",
    "                    self.data.append(data[i:i+lx,j:])\n",
    "                elif i == sx[-1] and j == sy[-1]:\n",
    "                    self.data.append(data[i:,j:])\n",
    "                else:\n",
    "                    self.data.append(data[i:i+lx,j:j+ly])\n",
    "                    \n",
    "    def run(self, fun):\n",
    "        pool = mp.Pool(self.px * self.py)\n",
    "        self.results_list = pool.map(fun, self.data)\n",
    "\n",
    "    def reshape_results(self):\n",
    "        self.results = np.empty([0,self.dy])\n",
    "\n",
    "        for i in range(self.px):\n",
    "            lx = self.results_list[i*self.py].shape[0]\n",
    "            row = np.empty([lx,0])\n",
    "            for j in range(self.py):\n",
    "                row = np.concatenate([row, self.results_list[i*py+j]], axis=1)\n",
    "\n",
    "            self.results = np.concatenate([self.results,row],axis=0)\n",
    "            \n",
    "            "
   ]
  },
  {
   "cell_type": "code",
   "execution_count": 15,
   "metadata": {},
   "outputs": [
    {
     "name": "stdout",
     "output_type": "stream",
     "text": [
      "domain size x and y:  11 7\n",
      "process number x and y:  3 3\n",
      "block size x and y:  3 2\n",
      "start corner x and y:  [0 3 6] [0 2 4]\n",
      "[[-0.69 -0.41 -1.77 -0.04 -1.35  2.39 -1.81]\n",
      " [ 0.1   0.19 -0.19 -1.74 -0.11  1.4  -0.64]\n",
      " [-1.78  0.38 -0.97 -0.77 -0.5  -0.52  0.54]\n",
      " [ 0.25 -0.34 -1.15 -2.1  -1.45 -1.43  0.53]\n",
      " [-0.33 -0.64  0.91  0.01 -0.69 -0.45  0.44]\n",
      " [ 1.18  0.98  1.21  0.36  1.55  0.66  1.8 ]\n",
      " [ 1.    0.86 -0.21  0.97  1.16  1.02  0.02]\n",
      " [ 1.59  1.89 -0.49 -0.86  0.72 -0.96  0.96]\n",
      " [-0.57  0.14 -1.77 -0.39  0.16  0.79  0.39]\n",
      " [-1.49 -2.35  0.26  0.07  0.63 -0.57 -1.3 ]\n",
      " [-0.91  1.04 -1.9   0.42 -0.15 -0.54 -0.05]]\n",
      "-----\n",
      "[[-1.35  2.39 -1.81]\n",
      " [-0.11  1.4  -0.64]\n",
      " [-0.5  -0.52  0.54]]\n"
     ]
    }
   ],
   "source": [
    "dx = 11\n",
    "dy = 7\n",
    "px = 3\n",
    "py = 3\n",
    "\n",
    "data = np.random.randn(dx,dy)\n",
    "aa =  parallel_partition_2d(data,dx,dy,px,py,debug=True)\n",
    "print(data.round(2))\n",
    "print(\"-----\")\n",
    "print(aa[2].round(2))"
   ]
  },
  {
   "cell_type": "code",
   "execution_count": 16,
   "metadata": {},
   "outputs": [],
   "source": [
    "pool = mp.Pool(9)\n",
    "a = pool.map(fun,aa)"
   ]
  },
  {
   "cell_type": "code",
   "execution_count": 17,
   "metadata": {},
   "outputs": [
    {
     "name": "stdout",
     "output_type": "stream",
     "text": [
      "[array([[0.46961804, 0.17054071],\n",
      "       [0.01074781, 0.03452211],\n",
      "       [3.1546914 , 0.14777087]]), array([[3.11727445e+00, 1.67299382e-03],\n",
      "       [3.75425246e-02, 3.04215908e+00],\n",
      "       [9.49574542e-01, 5.92787743e-01]]), array([[1.81094305, 5.73032202, 3.26160162],\n",
      "       [0.01302657, 1.95799775, 0.40751786],\n",
      "       [0.24577979, 0.27097085, 0.29658934]]), array([[0.06488342, 0.11295215],\n",
      "       [0.11023102, 0.40402685],\n",
      "       [1.40334206, 0.96699107]]), array([[1.32783615e+00, 4.40110709e+00],\n",
      "       [8.24916831e-01, 3.04158228e-05],\n",
      "       [1.45584344e+00, 1.29672802e-01]]), array([[2.10533023, 2.0380948 , 0.27837924],\n",
      "       [0.47429313, 0.20001777, 0.19654133],\n",
      "       [2.40031822, 0.43460411, 3.24549684]]), array([[0.99178639, 0.73176029],\n",
      "       [2.52814959, 3.56724842],\n",
      "       [0.32420526, 0.02060087],\n",
      "       [2.22156644, 5.54378219],\n",
      "       [0.83372233, 1.09033799]]), array([[0.04305389, 0.93410641],\n",
      "       [0.24438265, 0.74565775],\n",
      "       [3.12755922, 0.14874436],\n",
      "       [0.0665673 , 0.00471895],\n",
      "       [3.62786298, 0.17840221]]), array([[1.33535499e+00, 1.04170096e+00, 2.40587305e-04],\n",
      "       [5.16493591e-01, 9.30762718e-01, 9.12125111e-01],\n",
      "       [2.41202582e-02, 6.23868076e-01, 1.50476766e-01],\n",
      "       [3.92905920e-01, 3.26870197e-01, 1.68508012e+00],\n",
      "       [2.11195233e-02, 2.88080302e-01, 2.21116269e-03]])]\n"
     ]
    }
   ],
   "source": [
    "print(a)"
   ]
  },
  {
   "cell_type": "code",
   "execution_count": 18,
   "metadata": {},
   "outputs": [
    {
     "name": "stdout",
     "output_type": "stream",
     "text": [
      "[[0.47 0.17 3.12 0.   1.81 5.73 3.26]\n",
      " [0.01 0.03 0.04 3.04 0.01 1.96 0.41]\n",
      " [3.15 0.15 0.95 0.59 0.25 0.27 0.3 ]]\n"
     ]
    }
   ],
   "source": [
    "row = np.concatenate([a[0],a[1],a[2]],axis=1)\n",
    "print(row.round(2))"
   ]
  },
  {
   "cell_type": "code",
   "execution_count": 23,
   "metadata": {},
   "outputs": [
    {
     "name": "stdout",
     "output_type": "stream",
     "text": [
      "[[0.47 0.17 3.12 0.   1.81 5.73 3.26]\n",
      " [0.01 0.03 0.04 3.04 0.01 1.96 0.41]\n",
      " [3.15 0.15 0.95 0.59 0.25 0.27 0.3 ]\n",
      " [0.06 0.11 1.33 4.4  2.11 2.04 0.28]\n",
      " [0.11 0.4  0.82 0.   0.47 0.2  0.2 ]\n",
      " [1.4  0.97 1.46 0.13 2.4  0.43 3.25]\n",
      " [0.99 0.73 0.04 0.93 1.34 1.04 0.  ]\n",
      " [2.53 3.57 0.24 0.75 0.52 0.93 0.91]\n",
      " [0.32 0.02 3.13 0.15 0.02 0.62 0.15]\n",
      " [2.22 5.54 0.07 0.   0.39 0.33 1.69]\n",
      " [0.83 1.09 3.63 0.18 0.02 0.29 0.  ]]\n"
     ]
    }
   ],
   "source": [
    "final = np.empty([0,dy])\n",
    "\n",
    "for i in range(px):\n",
    "    lx = a[i*py].shape[0]\n",
    "    row = np.empty([lx,0])\n",
    "    for j in range(py):\n",
    "        row = np.concatenate([row, a[i*py+j]], axis=1)\n",
    "        \n",
    "    final = np.concatenate([final,row],axis=0)\n",
    "    \n",
    "print(final.round(2))"
   ]
  },
  {
   "cell_type": "code",
   "execution_count": 25,
   "metadata": {},
   "outputs": [
    {
     "name": "stdout",
     "output_type": "stream",
     "text": [
      "[[-0.69 -0.41 -1.77 -0.04 -1.35  2.39 -1.81]\n",
      " [ 0.1   0.19 -0.19 -1.74 -0.11  1.4  -0.64]\n",
      " [-1.78  0.38 -0.97 -0.77 -0.5  -0.52  0.54]\n",
      " [ 0.25 -0.34 -1.15 -2.1  -1.45 -1.43  0.53]\n",
      " [-0.33 -0.64  0.91  0.01 -0.69 -0.45  0.44]\n",
      " [ 1.18  0.98  1.21  0.36  1.55  0.66  1.8 ]\n",
      " [ 1.    0.86 -0.21  0.97  1.16  1.02  0.02]\n",
      " [ 1.59  1.89 -0.49 -0.86  0.72 -0.96  0.96]\n",
      " [-0.57  0.14 -1.77 -0.39  0.16  0.79  0.39]\n",
      " [-1.49 -2.35  0.26  0.07  0.63 -0.57 -1.3 ]\n",
      " [-0.91  1.04 -1.9   0.42 -0.15 -0.54 -0.05]]\n"
     ]
    }
   ],
   "source": [
    "print(data.round(2))"
   ]
  },
  {
   "cell_type": "code",
   "execution_count": 27,
   "metadata": {},
   "outputs": [
    {
     "name": "stdout",
     "output_type": "stream",
     "text": [
      "[[0.47 0.17 3.12 0.   1.81 5.73 3.26]\n",
      " [0.01 0.03 0.04 3.04 0.01 1.96 0.41]\n",
      " [3.15 0.15 0.95 0.59 0.25 0.27 0.3 ]\n",
      " [0.06 0.11 1.33 4.4  2.11 2.04 0.28]\n",
      " [0.11 0.4  0.82 0.   0.47 0.2  0.2 ]\n",
      " [1.4  0.97 1.46 0.13 2.4  0.43 3.25]\n",
      " [0.99 0.73 0.04 0.93 1.34 1.04 0.  ]\n",
      " [2.53 3.57 0.24 0.75 0.52 0.93 0.91]\n",
      " [0.32 0.02 3.13 0.15 0.02 0.62 0.15]\n",
      " [2.22 5.54 0.07 0.   0.39 0.33 1.69]\n",
      " [0.83 1.09 3.63 0.18 0.02 0.29 0.  ]]\n"
     ]
    }
   ],
   "source": [
    "tmp = data * data\n",
    "print(tmp.round(2))"
   ]
  },
  {
   "cell_type": "code",
   "execution_count": 38,
   "metadata": {},
   "outputs": [],
   "source": [
    "dx = 11\n",
    "dy = 7\n",
    "px = 3\n",
    "py = 3\n",
    "my_parallel = python_parallel(dx,dy,px,py)"
   ]
  },
  {
   "cell_type": "code",
   "execution_count": 39,
   "metadata": {},
   "outputs": [
    {
     "name": "stdout",
     "output_type": "stream",
     "text": [
      "[[-0.8  -0.13  1.1   0.46 -1.18 -1.39  1.66]\n",
      " [ 0.09 -0.84  0.1   0.83 -0.05  0.65  1.47]\n",
      " [-0.74 -1.09  0.75  0.43  0.47  1.37 -0.22]\n",
      " [ 1.52 -0.73 -0.83  2.23  0.92  1.89 -0.49]\n",
      " [-0.04  0.03  0.21  0.78  0.11  1.49 -0.5 ]\n",
      " [-0.54  0.08 -0.02 -1.34  1.05  1.48  0.72]\n",
      " [-0.29 -0.8  -1.55  1.31  2.93  1.26 -0.29]\n",
      " [ 0.15 -0.15  0.27  1.04  0.07 -0.43 -0.22]\n",
      " [-0.49  0.87 -0.   -1.09  1.12  0.11  0.96]\n",
      " [-0.93  0.91  0.26 -0.06 -0.73 -0.39  0.4 ]\n",
      " [-0.23  0.92  1.61  1.96 -1.7  -1.28  1.18]]\n"
     ]
    }
   ],
   "source": [
    "data = np.random.randn(dx,dy)\n",
    "print(data.round(2))"
   ]
  },
  {
   "cell_type": "code",
   "execution_count": 40,
   "metadata": {},
   "outputs": [],
   "source": [
    "my_parallel.parallel_partition_2d(data)"
   ]
  },
  {
   "cell_type": "code",
   "execution_count": 41,
   "metadata": {},
   "outputs": [],
   "source": [
    "def func(x):\n",
    "    return x*x"
   ]
  },
  {
   "cell_type": "code",
   "execution_count": 42,
   "metadata": {},
   "outputs": [],
   "source": [
    "my_parallel.run(func)"
   ]
  },
  {
   "cell_type": "code",
   "execution_count": 43,
   "metadata": {},
   "outputs": [],
   "source": [
    "my_parallel.reshape_results()"
   ]
  },
  {
   "cell_type": "code",
   "execution_count": 45,
   "metadata": {},
   "outputs": [
    {
     "data": {
      "text/plain": [
       "array([[0.64, 0.02, 1.21, 0.21, 1.4 , 1.94, 2.77],\n",
       "       [0.01, 0.71, 0.01, 0.69, 0.  , 0.42, 2.17],\n",
       "       [0.55, 1.19, 0.56, 0.19, 0.23, 1.88, 0.05],\n",
       "       [2.3 , 0.53, 0.69, 4.99, 0.85, 3.56, 0.24],\n",
       "       [0.  , 0.  , 0.04, 0.62, 0.01, 2.21, 0.25],\n",
       "       [0.3 , 0.01, 0.  , 1.8 , 1.09, 2.19, 0.51],\n",
       "       [0.08, 0.64, 2.4 , 1.72, 8.6 , 1.59, 0.08],\n",
       "       [0.02, 0.02, 0.07, 1.09, 0.01, 0.18, 0.05],\n",
       "       [0.24, 0.75, 0.  , 1.18, 1.27, 0.01, 0.92],\n",
       "       [0.87, 0.82, 0.07, 0.  , 0.53, 0.15, 0.16],\n",
       "       [0.05, 0.85, 2.58, 3.83, 2.88, 1.63, 1.4 ]])"
      ]
     },
     "execution_count": 45,
     "metadata": {},
     "output_type": "execute_result"
    }
   ],
   "source": [
    "my_parallel.results.round(2)"
   ]
  },
  {
   "cell_type": "code",
   "execution_count": 47,
   "metadata": {},
   "outputs": [
    {
     "name": "stdout",
     "output_type": "stream",
     "text": [
      "[[0.64 0.02 1.21 0.21 1.4  1.94 2.77]\n",
      " [0.01 0.71 0.01 0.69 0.   0.42 2.17]\n",
      " [0.55 1.19 0.56 0.19 0.23 1.88 0.05]\n",
      " [2.3  0.53 0.69 4.99 0.85 3.56 0.24]\n",
      " [0.   0.   0.04 0.62 0.01 2.21 0.25]\n",
      " [0.3  0.01 0.   1.8  1.09 2.19 0.51]\n",
      " [0.08 0.64 2.4  1.72 8.6  1.59 0.08]\n",
      " [0.02 0.02 0.07 1.09 0.01 0.18 0.05]\n",
      " [0.24 0.75 0.   1.18 1.27 0.01 0.92]\n",
      " [0.87 0.82 0.07 0.   0.53 0.15 0.16]\n",
      " [0.05 0.85 2.58 3.83 2.88 1.63 1.4 ]]\n"
     ]
    }
   ],
   "source": [
    "a = data * data\n",
    "print(a.round(2))"
   ]
  },
  {
   "cell_type": "code",
   "execution_count": null,
   "metadata": {},
   "outputs": [],
   "source": []
  }
 ],
 "metadata": {
  "kernelspec": {
   "display_name": "luffy",
   "language": "python",
   "name": "luffy"
  },
  "language_info": {
   "codemirror_mode": {
    "name": "ipython",
    "version": 3
   },
   "file_extension": ".py",
   "mimetype": "text/x-python",
   "name": "python",
   "nbconvert_exporter": "python",
   "pygments_lexer": "ipython3",
   "version": "3.8.5"
  }
 },
 "nbformat": 4,
 "nbformat_minor": 4
}
